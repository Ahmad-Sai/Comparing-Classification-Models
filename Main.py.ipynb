{
 "cells": [
  {
   "cell_type": "markdown",
   "id": "1231c2da",
   "metadata": {},
   "source": [
    "## STAT 2600 Final Project by Ahmad Sai"
   ]
  },
  {
   "cell_type": "markdown",
   "id": "3c667a04",
   "metadata": {},
   "source": [
    " #### Necessary Libraries and Functions needed to create models and plots. "
   ]
  },
  {
   "cell_type": "code",
   "execution_count": 36,
   "id": "7d7278a3",
   "metadata": {},
   "outputs": [],
   "source": [
    "import sklearn\n",
    "import itertools\n",
    "import numpy as np\n",
    "import pandas as pd\n",
    "import matplotlib.pyplot as plt\n",
    "from xgboost import XGBClassifier\n",
    "from sklearn.svm import LinearSVC\n",
    "from matplotlib import pyplot as plt\n",
    "from sklearn.metrics import accuracy_score\n",
    "from sklearn.tree import DecisionTreeClassifier\n",
    "from sklearn.linear_model import LogisticRegression\n",
    "from sklearn.model_selection import train_test_split"
   ]
  },
  {
   "cell_type": "markdown",
   "id": "bca0dea7",
   "metadata": {},
   "source": [
    "#### Read in the data from .csv file and display the first few rows. "
   ]
  },
  {
   "cell_type": "code",
   "execution_count": 37,
   "id": "e3b34096",
   "metadata": {},
   "outputs": [
    {
     "data": {
      "text/html": [
       "<div>\n",
       "<style scoped>\n",
       "    .dataframe tbody tr th:only-of-type {\n",
       "        vertical-align: middle;\n",
       "    }\n",
       "\n",
       "    .dataframe tbody tr th {\n",
       "        vertical-align: top;\n",
       "    }\n",
       "\n",
       "    .dataframe thead th {\n",
       "        text-align: right;\n",
       "    }\n",
       "</style>\n",
       "<table border=\"1\" class=\"dataframe\">\n",
       "  <thead>\n",
       "    <tr style=\"text-align: right;\">\n",
       "      <th></th>\n",
       "      <th>Pregnancies</th>\n",
       "      <th>Glucose</th>\n",
       "      <th>BloodPressure</th>\n",
       "      <th>SkinThickness</th>\n",
       "      <th>Insulin</th>\n",
       "      <th>BMI</th>\n",
       "      <th>DiabetesPedigreeFunction</th>\n",
       "      <th>Age</th>\n",
       "      <th>Outcome</th>\n",
       "    </tr>\n",
       "  </thead>\n",
       "  <tbody>\n",
       "    <tr>\n",
       "      <th>0</th>\n",
       "      <td>2</td>\n",
       "      <td>138</td>\n",
       "      <td>62</td>\n",
       "      <td>35</td>\n",
       "      <td>0</td>\n",
       "      <td>33.6</td>\n",
       "      <td>0.127</td>\n",
       "      <td>47</td>\n",
       "      <td>1</td>\n",
       "    </tr>\n",
       "    <tr>\n",
       "      <th>1</th>\n",
       "      <td>0</td>\n",
       "      <td>84</td>\n",
       "      <td>82</td>\n",
       "      <td>31</td>\n",
       "      <td>125</td>\n",
       "      <td>38.2</td>\n",
       "      <td>0.233</td>\n",
       "      <td>23</td>\n",
       "      <td>0</td>\n",
       "    </tr>\n",
       "    <tr>\n",
       "      <th>2</th>\n",
       "      <td>0</td>\n",
       "      <td>145</td>\n",
       "      <td>0</td>\n",
       "      <td>0</td>\n",
       "      <td>0</td>\n",
       "      <td>44.2</td>\n",
       "      <td>0.630</td>\n",
       "      <td>31</td>\n",
       "      <td>1</td>\n",
       "    </tr>\n",
       "    <tr>\n",
       "      <th>3</th>\n",
       "      <td>0</td>\n",
       "      <td>135</td>\n",
       "      <td>68</td>\n",
       "      <td>42</td>\n",
       "      <td>250</td>\n",
       "      <td>42.3</td>\n",
       "      <td>0.365</td>\n",
       "      <td>24</td>\n",
       "      <td>1</td>\n",
       "    </tr>\n",
       "    <tr>\n",
       "      <th>4</th>\n",
       "      <td>1</td>\n",
       "      <td>139</td>\n",
       "      <td>62</td>\n",
       "      <td>41</td>\n",
       "      <td>480</td>\n",
       "      <td>40.7</td>\n",
       "      <td>0.536</td>\n",
       "      <td>21</td>\n",
       "      <td>0</td>\n",
       "    </tr>\n",
       "  </tbody>\n",
       "</table>\n",
       "</div>"
      ],
      "text/plain": [
       "   Pregnancies  Glucose  BloodPressure  SkinThickness  Insulin   BMI  \\\n",
       "0            2      138             62             35        0  33.6   \n",
       "1            0       84             82             31      125  38.2   \n",
       "2            0      145              0              0        0  44.2   \n",
       "3            0      135             68             42      250  42.3   \n",
       "4            1      139             62             41      480  40.7   \n",
       "\n",
       "   DiabetesPedigreeFunction  Age  Outcome  \n",
       "0                     0.127   47        1  \n",
       "1                     0.233   23        0  \n",
       "2                     0.630   31        1  \n",
       "3                     0.365   24        1  \n",
       "4                     0.536   21        0  "
      ]
     },
     "execution_count": 37,
     "metadata": {},
     "output_type": "execute_result"
    }
   ],
   "source": [
    "df = pd.read_csv(\"diabetes-dataset.csv\")\n",
    "df.head()"
   ]
  },
  {
   "cell_type": "markdown",
   "id": "f01c3743",
   "metadata": {},
   "source": [
    "#### Before cleaning, the dataset has 9 columns and 2000 rows"
   ]
  },
  {
   "cell_type": "code",
   "execution_count": 38,
   "id": "b1d6504e",
   "metadata": {},
   "outputs": [
    {
     "data": {
      "text/plain": [
       "(2000, 9)"
      ]
     },
     "execution_count": 38,
     "metadata": {},
     "output_type": "execute_result"
    }
   ],
   "source": [
    "df.shape"
   ]
  },
  {
   "cell_type": "markdown",
   "id": "f7765547",
   "metadata": {},
   "source": [
    "#### Cleaning dataset and remove anomolies"
   ]
  },
  {
   "cell_type": "code",
   "execution_count": 39,
   "id": "8cb318b5",
   "metadata": {},
   "outputs": [],
   "source": [
    "df = df[df.BloodPressure != 0]\n",
    "df = df[df.Glucose != 0]\n",
    "df = df[df.Insulin != 0]\n",
    "df = df[df.SkinThickness != 0]\n",
    "df = df[df.BMI != 0]"
   ]
  },
  {
   "cell_type": "markdown",
   "id": "d4464989",
   "metadata": {},
   "source": [
    "#### After cleaning, the dataset now only has 1035 rows remain"
   ]
  },
  {
   "cell_type": "code",
   "execution_count": 40,
   "id": "32f39b8f",
   "metadata": {},
   "outputs": [
    {
     "data": {
      "text/plain": [
       "(1035, 9)"
      ]
     },
     "execution_count": 40,
     "metadata": {},
     "output_type": "execute_result"
    }
   ],
   "source": [
    "df.shape"
   ]
  },
  {
   "cell_type": "markdown",
   "id": "0467cb84",
   "metadata": {},
   "source": [
    "#### Now I will group the entries in the dataset by age group (group 1: 20-30, group 2: 30-40, group 3: 40-50,...)"
   ]
  },
  {
   "cell_type": "code",
   "execution_count": 41,
   "id": "28cd7124",
   "metadata": {},
   "outputs": [],
   "source": [
    "age_group1 = 0\n",
    "age_group2 = 0\n",
    "age_group3 = 0\n",
    "age_group4 = 0\n",
    "age_group5 = 0\n",
    "age_group6 = 0\n",
    "age_group7 = 0\n",
    "\n",
    "for age, count in dict(df['Age'].value_counts()).items():\n",
    "    if(age <= 30):\n",
    "        age_group1 += count\n",
    "    elif(age <= 40):\n",
    "        age_group2 += count\n",
    "    elif(age <= 50):\n",
    "        age_group3 += count\n",
    "    elif(age <= 60):\n",
    "        age_group4 += count\n",
    "    elif(age <= 70):\n",
    "        age_group5 += count\n",
    "    elif(age <= 80):\n",
    "        age_group6 += count\n",
    "    elif(age > 80):\n",
    "        age_group7 += count "
   ]
  },
  {
   "cell_type": "markdown",
   "id": "d383b420",
   "metadata": {},
   "source": [
    "#### Now I will graph the number of people in each age group"
   ]
  },
  {
   "cell_type": "code",
   "execution_count": 42,
   "id": "b3251036",
   "metadata": {},
   "outputs": [
    {
     "data": {
      "image/png": "[encoded data removed]",
      "text/plain": [
       "<Figure size 432x288 with 1 Axes>"
      ]
     },
     "metadata": {
      "needs_background": "light"
     },
     "output_type": "display_data"
    }
   ],
   "source": [
    "x_axis = ['20-30', '30-40', '40-50','50-60','60-70','70-80','80+']\n",
    "y_axis = [age_group1, age_group2, age_group3, age_group4, age_group5, age_group6, age_group7]\n",
    "plt.bar(x_axis, y_axis)\n",
    "plt.title('Entries per Age Groups')\n",
    "plt.ylabel('Num. Entries')\n",
    "plt.xlabel('Age Group')\n",
    "plt.show()"
   ]
  },
  {
   "cell_type": "markdown",
   "id": "37c37269",
   "metadata": {},
   "source": [
    "#### Looks like a large precentage of people in the dataset fall within the 20-30 age range. Now lets' see how many diabetics are in each age group"
   ]
  },
  {
   "cell_type": "code",
   "execution_count": 46,
   "id": "2e605b2a",
   "metadata": {},
   "outputs": [],
   "source": [
    "age_group_diabetes1 = 0\n",
    "age_group_diabetes2 = 0\n",
    "age_group_diabetes3 = 0\n",
    "age_group_diabetes4 = 0\n",
    "age_group_diabetes5 = 0\n",
    "age_group_diabetes6 = 0\n",
    "age_group_diabetes7 = 0\n",
    "\n",
    "\n",
    "for row in range(len(df)):\n",
    "    age = df.iloc[row]['Age']\n",
    "    outcome = df.iloc[row]['Outcome']\n",
    "    if(age <= 30 and outcome):\n",
    "        age_group_diabetes1 += 1\n",
    "    elif(age <= 40 and outcome):\n",
    "        age_group_diabetes2 += 1\n",
    "    elif(age <= 50 and outcome):\n",
    "        age_group_diabetes3 += 1\n",
    "    elif(age <= 60 and outcome):\n",
    "        age_group_diabetes4 += 1\n",
    "    elif(age <= 70 and outcome):\n",
    "        age_group_diabetes5 += 1\n",
    "    elif(age <= 80 and outcome):\n",
    "        age_group_diabetes6 += 1\n",
    "    elif(age > 80 and outcome):\n",
    "        age_group_diabetes7 += 1"
   ]
  },
  {
   "cell_type": "markdown",
   "id": "dc0de432",
   "metadata": {},
   "source": [
    "#### Create the plot"
   ]
  },
  {
   "cell_type": "code",
   "execution_count": 47,
   "id": "926252d7",
   "metadata": {},
   "outputs": [
    {
     "data": {
      "image/png": "[encoded data removed]",
      "text/plain": [
       "<Figure size 432x288 with 1 Axes>"
      ]
     },
     "metadata": {
      "needs_background": "light"
     },
     "output_type": "display_data"
    }
   ],
   "source": [
    "x_axis = ['20-30', '30-40', '40-50','50-60','60-70','70-80','80+']\n",
    "y_axis = [age_group_diabetes1, age_group_diabetes2, age_group_diabetes3, age_group_diabetes4, age_group_diabetes5, age_group_diabetes6, age_group_diabetes7]\n",
    "plt.bar(x_axis, y_axis)\n",
    "plt.title('Diabetics Per Age Group')\n",
    "plt.ylabel('Num. Diabetics')\n",
    "plt.xlabel('Age Group')\n",
    "plt.show()"
   ]
  },
  {
   "cell_type": "markdown",
   "id": "3b405497",
   "metadata": {},
   "source": [
    "#### Seems like most diabetics fall within the age range  20-30. This is to be expected as there are more entries for people who fall within this age range. Now let's see the percent of people in each age group that have diabetes."
   ]
  },
  {
   "cell_type": "code",
   "execution_count": 49,
   "id": "af70b78f",
   "metadata": {},
   "outputs": [
    {
     "name": "stderr",
     "output_type": "stream",
     "text": [
      "C:\\Users\\Ahmad\\AppData\\Local\\Temp\\ipykernel_13744\\1691609417.py:4: RuntimeWarning: invalid value encountered in true_divide\n",
      "  percents = np.divide(diabetics,ages)\n"
     ]
    },
    {
     "data": {
      "image/png": "[encoded data removed]",
      "text/plain": [
       "<Figure size 432x288 with 1 Axes>"
      ]
     },
     "metadata": {
      "needs_background": "light"
     },
     "output_type": "display_data"
    }
   ],
   "source": [
    "diabetics = np.asarray([age_group_diabetes1, age_group_diabetes2, age_group_diabetes3, age_group_diabetes4, age_group_diabetes5, age_group_diabetes6, age_group_diabetes7])\n",
    "ages =  np.asarray([age_group1, age_group2, age_group3, age_group4, age_group5, age_group6, age_group7])\n",
    "\n",
    "percents = np.divide(diabetics,ages)\n",
    "\n",
    "x_axis = ['20-30', '30-40', '40-50','50-60','60-70','70-80','80+']\n",
    "y_axis = percents*100\n",
    "plt.bar(x_axis, y_axis)\n",
    "plt.title('Percent of Diabetics Per Age Group')\n",
    "plt.ylabel('Percent %')\n",
    "plt.xlabel('Age Group')\n",
    "plt.show()"
   ]
  },
  {
   "cell_type": "markdown",
   "id": "bff17420",
   "metadata": {},
   "source": [
    "#### Display the spread of data using the .std() function. Because all the values of the standard deviation of each column are high, it means that the data is less reliable."
   ]
  },
  {
   "cell_type": "code",
   "execution_count": 5,
   "id": "0514bbae",
   "metadata": {},
   "outputs": [
    {
     "data": {
      "text/plain": [
       "Pregnancies                   3.167531\n",
       "Glucose                      30.653888\n",
       "BloodPressure                12.336324\n",
       "SkinThickness                10.558989\n",
       "Insulin                     111.489069\n",
       "BMI                           7.097899\n",
       "DiabetesPedigreeFunction      0.332292\n",
       "Age                          10.047212\n",
       "Outcome                       0.468827\n",
       "dtype: float64"
      ]
     },
     "execution_count": 5,
     "metadata": {},
     "output_type": "execute_result"
    }
   ],
   "source": [
    "df.std()"
   ]
  },
  {
   "cell_type": "markdown",
   "id": "f063e684",
   "metadata": {},
   "source": [
    "#### Normalize data for consistency. Each column is normalized based on the largest value in that column such that every entry in the column falls in the range [0,1] "
   ]
  },
  {
   "cell_type": "code",
   "execution_count": 7,
   "id": "0171f8b0",
   "metadata": {},
   "outputs": [
    {
     "data": {
      "text/html": [
       "<div>\n",
       "<style scoped>\n",
       "    .dataframe tbody tr th:only-of-type {\n",
       "        vertical-align: middle;\n",
       "    }\n",
       "\n",
       "    .dataframe tbody tr th {\n",
       "        vertical-align: top;\n",
       "    }\n",
       "\n",
       "    .dataframe thead th {\n",
       "        text-align: right;\n",
       "    }\n",
       "</style>\n",
       "<table border=\"1\" class=\"dataframe\">\n",
       "  <thead>\n",
       "    <tr style=\"text-align: right;\">\n",
       "      <th></th>\n",
       "      <th>Pregnancies</th>\n",
       "      <th>Glucose</th>\n",
       "      <th>BloodPressure</th>\n",
       "      <th>SkinThickness</th>\n",
       "      <th>Insulin</th>\n",
       "      <th>BMI</th>\n",
       "      <th>DiabetesPedigreeFunction</th>\n",
       "      <th>Age</th>\n",
       "      <th>Outcome</th>\n",
       "    </tr>\n",
       "  </thead>\n",
       "  <tbody>\n",
       "    <tr>\n",
       "      <th>1</th>\n",
       "      <td>0.000000</td>\n",
       "      <td>0.424242</td>\n",
       "      <td>0.745455</td>\n",
       "      <td>0.492063</td>\n",
       "      <td>0.168011</td>\n",
       "      <td>0.569300</td>\n",
       "      <td>0.096281</td>\n",
       "      <td>0.283951</td>\n",
       "      <td>0.0</td>\n",
       "    </tr>\n",
       "    <tr>\n",
       "      <th>3</th>\n",
       "      <td>0.000000</td>\n",
       "      <td>0.681818</td>\n",
       "      <td>0.618182</td>\n",
       "      <td>0.666667</td>\n",
       "      <td>0.336022</td>\n",
       "      <td>0.630402</td>\n",
       "      <td>0.150826</td>\n",
       "      <td>0.296296</td>\n",
       "      <td>1.0</td>\n",
       "    </tr>\n",
       "    <tr>\n",
       "      <th>4</th>\n",
       "      <td>0.058824</td>\n",
       "      <td>0.702020</td>\n",
       "      <td>0.563636</td>\n",
       "      <td>0.650794</td>\n",
       "      <td>0.645161</td>\n",
       "      <td>0.606557</td>\n",
       "      <td>0.221488</td>\n",
       "      <td>0.259259</td>\n",
       "      <td>0.0</td>\n",
       "    </tr>\n",
       "    <tr>\n",
       "      <th>5</th>\n",
       "      <td>0.000000</td>\n",
       "      <td>0.873737</td>\n",
       "      <td>0.709091</td>\n",
       "      <td>0.507937</td>\n",
       "      <td>0.356183</td>\n",
       "      <td>0.692996</td>\n",
       "      <td>0.478926</td>\n",
       "      <td>0.716049</td>\n",
       "      <td>0.0</td>\n",
       "    </tr>\n",
       "    <tr>\n",
       "      <th>8</th>\n",
       "      <td>0.117647</td>\n",
       "      <td>0.419192</td>\n",
       "      <td>0.590909</td>\n",
       "      <td>0.444444</td>\n",
       "      <td>0.088710</td>\n",
       "      <td>0.548435</td>\n",
       "      <td>0.259917</td>\n",
       "      <td>0.296296</td>\n",
       "      <td>0.0</td>\n",
       "    </tr>\n",
       "  </tbody>\n",
       "</table>\n",
       "</div>"
      ],
      "text/plain": [
       "   Pregnancies   Glucose  BloodPressure  SkinThickness   Insulin       BMI  \\\n",
       "1     0.000000  0.424242       0.745455       0.492063  0.168011  0.569300   \n",
       "3     0.000000  0.681818       0.618182       0.666667  0.336022  0.630402   \n",
       "4     0.058824  0.702020       0.563636       0.650794  0.645161  0.606557   \n",
       "5     0.000000  0.873737       0.709091       0.507937  0.356183  0.692996   \n",
       "8     0.117647  0.419192       0.590909       0.444444  0.088710  0.548435   \n",
       "\n",
       "   DiabetesPedigreeFunction       Age  Outcome  \n",
       "1                  0.096281  0.283951      0.0  \n",
       "3                  0.150826  0.296296      1.0  \n",
       "4                  0.221488  0.259259      0.0  \n",
       "5                  0.478926  0.716049      0.0  \n",
       "8                  0.259917  0.296296      0.0  "
      ]
     },
     "execution_count": 7,
     "metadata": {},
     "output_type": "execute_result"
    }
   ],
   "source": [
    "for column in df.columns:\n",
    "    df[column] = df[column]  / df[column].abs().max()\n",
    "\n",
    "df.head()"
   ]
  },
  {
   "cell_type": "markdown",
   "id": "9594e0dd",
   "metadata": {},
   "source": [
    "#### Shuffle the data 100 times. Excessive, but done to avoid inequalities found in data when entries were first recorded, it also helps spread the data so that there isn't data disparity."
   ]
  },
  {
   "cell_type": "code",
   "execution_count": 8,
   "id": "665eaa3d",
   "metadata": {},
   "outputs": [
    {
     "data": {
      "text/html": [
       "<div>\n",
       "<style scoped>\n",
       "    .dataframe tbody tr th:only-of-type {\n",
       "        vertical-align: middle;\n",
       "    }\n",
       "\n",
       "    .dataframe tbody tr th {\n",
       "        vertical-align: top;\n",
       "    }\n",
       "\n",
       "    .dataframe thead th {\n",
       "        text-align: right;\n",
       "    }\n",
       "</style>\n",
       "<table border=\"1\" class=\"dataframe\">\n",
       "  <thead>\n",
       "    <tr style=\"text-align: right;\">\n",
       "      <th></th>\n",
       "      <th>Pregnancies</th>\n",
       "      <th>Glucose</th>\n",
       "      <th>BloodPressure</th>\n",
       "      <th>SkinThickness</th>\n",
       "      <th>Insulin</th>\n",
       "      <th>BMI</th>\n",
       "      <th>DiabetesPedigreeFunction</th>\n",
       "      <th>Age</th>\n",
       "      <th>Outcome</th>\n",
       "    </tr>\n",
       "  </thead>\n",
       "  <tbody>\n",
       "    <tr>\n",
       "      <th>1487</th>\n",
       "      <td>0.000000</td>\n",
       "      <td>0.681818</td>\n",
       "      <td>0.854545</td>\n",
       "      <td>0.730159</td>\n",
       "      <td>0.194892</td>\n",
       "      <td>0.605067</td>\n",
       "      <td>0.117355</td>\n",
       "      <td>0.320988</td>\n",
       "      <td>0.0</td>\n",
       "    </tr>\n",
       "    <tr>\n",
       "      <th>228</th>\n",
       "      <td>0.235294</td>\n",
       "      <td>0.994949</td>\n",
       "      <td>0.636364</td>\n",
       "      <td>0.619048</td>\n",
       "      <td>1.000000</td>\n",
       "      <td>0.546945</td>\n",
       "      <td>0.962397</td>\n",
       "      <td>0.382716</td>\n",
       "      <td>0.0</td>\n",
       "    </tr>\n",
       "    <tr>\n",
       "      <th>1700</th>\n",
       "      <td>0.411765</td>\n",
       "      <td>0.848485</td>\n",
       "      <td>0.800000</td>\n",
       "      <td>0.666667</td>\n",
       "      <td>0.431452</td>\n",
       "      <td>0.569300</td>\n",
       "      <td>0.325207</td>\n",
       "      <td>0.493827</td>\n",
       "      <td>1.0</td>\n",
       "    </tr>\n",
       "    <tr>\n",
       "      <th>165</th>\n",
       "      <td>0.352941</td>\n",
       "      <td>0.525253</td>\n",
       "      <td>0.672727</td>\n",
       "      <td>0.285714</td>\n",
       "      <td>0.209677</td>\n",
       "      <td>0.445604</td>\n",
       "      <td>0.298347</td>\n",
       "      <td>0.506173</td>\n",
       "      <td>1.0</td>\n",
       "    </tr>\n",
       "    <tr>\n",
       "      <th>414</th>\n",
       "      <td>0.000000</td>\n",
       "      <td>0.696970</td>\n",
       "      <td>0.545455</td>\n",
       "      <td>0.555556</td>\n",
       "      <td>0.224462</td>\n",
       "      <td>0.515648</td>\n",
       "      <td>0.220661</td>\n",
       "      <td>0.259259</td>\n",
       "      <td>1.0</td>\n",
       "    </tr>\n",
       "  </tbody>\n",
       "</table>\n",
       "</div>"
      ],
      "text/plain": [
       "      Pregnancies   Glucose  BloodPressure  SkinThickness   Insulin       BMI  \\\n",
       "1487     0.000000  0.681818       0.854545       0.730159  0.194892  0.605067   \n",
       "228      0.235294  0.994949       0.636364       0.619048  1.000000  0.546945   \n",
       "1700     0.411765  0.848485       0.800000       0.666667  0.431452  0.569300   \n",
       "165      0.352941  0.525253       0.672727       0.285714  0.209677  0.445604   \n",
       "414      0.000000  0.696970       0.545455       0.555556  0.224462  0.515648   \n",
       "\n",
       "      DiabetesPedigreeFunction       Age  Outcome  \n",
       "1487                  0.117355  0.320988      0.0  \n",
       "228                   0.962397  0.382716      0.0  \n",
       "1700                  0.325207  0.493827      1.0  \n",
       "165                   0.298347  0.506173      1.0  \n",
       "414                   0.220661  0.259259      1.0  "
      ]
     },
     "execution_count": 8,
     "metadata": {},
     "output_type": "execute_result"
    }
   ],
   "source": [
    "for i in range(100):\n",
    "    df = df.sample(frac=1)\n",
    "    \n",
    "df.head()"
   ]
  },
  {
   "cell_type": "markdown",
   "id": "46cd741c",
   "metadata": {},
   "source": [
    "#### Display the spread of data using the .std() function after shuffling. Because all the values of the standard deviation of each column are low, it means that the data is more reliable."
   ]
  },
  {
   "cell_type": "code",
   "execution_count": 9,
   "id": "c2df701f",
   "metadata": {},
   "outputs": [
    {
     "data": {
      "text/plain": [
       "Pregnancies                 0.186325\n",
       "Glucose                     0.154818\n",
       "BloodPressure               0.112148\n",
       "SkinThickness               0.167603\n",
       "Insulin                     0.149851\n",
       "BMI                         0.105781\n",
       "DiabetesPedigreeFunction    0.137311\n",
       "Age                         0.124040\n",
       "Outcome                     0.468827\n",
       "dtype: float64"
      ]
     },
     "execution_count": 9,
     "metadata": {},
     "output_type": "execute_result"
    }
   ],
   "source": [
    "df.std()"
   ]
  },
  {
   "cell_type": "markdown",
   "id": "dd25c31f",
   "metadata": {},
   "source": [
    "#### Split data into 80% for training set, and 20% for testing set. "
   ]
  },
  {
   "cell_type": "code",
   "execution_count": 10,
   "id": "14380645",
   "metadata": {},
   "outputs": [],
   "source": [
    "training_data, testing_data = train_test_split(df, train_size=0.8, test_size=0.2, random_state=42)"
   ]
  },
  {
   "cell_type": "code",
   "execution_count": 11,
   "id": "a6c9a96d",
   "metadata": {},
   "outputs": [
    {
     "data": {
      "text/html": [
       "<div>\n",
       "<style scoped>\n",
       "    .dataframe tbody tr th:only-of-type {\n",
       "        vertical-align: middle;\n",
       "    }\n",
       "\n",
       "    .dataframe tbody tr th {\n",
       "        vertical-align: top;\n",
       "    }\n",
       "\n",
       "    .dataframe thead th {\n",
       "        text-align: right;\n",
       "    }\n",
       "</style>\n",
       "<table border=\"1\" class=\"dataframe\">\n",
       "  <thead>\n",
       "    <tr style=\"text-align: right;\">\n",
       "      <th></th>\n",
       "      <th>Pregnancies</th>\n",
       "      <th>Glucose</th>\n",
       "      <th>BloodPressure</th>\n",
       "      <th>SkinThickness</th>\n",
       "      <th>Insulin</th>\n",
       "      <th>BMI</th>\n",
       "      <th>DiabetesPedigreeFunction</th>\n",
       "      <th>Age</th>\n",
       "      <th>Outcome</th>\n",
       "    </tr>\n",
       "  </thead>\n",
       "  <tbody>\n",
       "    <tr>\n",
       "      <th>442</th>\n",
       "      <td>0.235294</td>\n",
       "      <td>0.590909</td>\n",
       "      <td>0.581818</td>\n",
       "      <td>0.428571</td>\n",
       "      <td>0.161290</td>\n",
       "      <td>0.494784</td>\n",
       "      <td>0.095041</td>\n",
       "      <td>0.296296</td>\n",
       "      <td>0.0</td>\n",
       "    </tr>\n",
       "    <tr>\n",
       "      <th>544</th>\n",
       "      <td>0.058824</td>\n",
       "      <td>0.444444</td>\n",
       "      <td>0.709091</td>\n",
       "      <td>0.460317</td>\n",
       "      <td>0.102151</td>\n",
       "      <td>0.476900</td>\n",
       "      <td>0.150826</td>\n",
       "      <td>0.358025</td>\n",
       "      <td>0.0</td>\n",
       "    </tr>\n",
       "    <tr>\n",
       "      <th>1685</th>\n",
       "      <td>0.058824</td>\n",
       "      <td>0.404040</td>\n",
       "      <td>0.672727</td>\n",
       "      <td>0.174603</td>\n",
       "      <td>0.080645</td>\n",
       "      <td>0.447094</td>\n",
       "      <td>0.217769</td>\n",
       "      <td>0.271605</td>\n",
       "      <td>0.0</td>\n",
       "    </tr>\n",
       "    <tr>\n",
       "      <th>1189</th>\n",
       "      <td>0.117647</td>\n",
       "      <td>0.878788</td>\n",
       "      <td>0.800000</td>\n",
       "      <td>0.587302</td>\n",
       "      <td>0.161290</td>\n",
       "      <td>0.663189</td>\n",
       "      <td>0.266942</td>\n",
       "      <td>0.296296</td>\n",
       "      <td>1.0</td>\n",
       "    </tr>\n",
       "    <tr>\n",
       "      <th>445</th>\n",
       "      <td>0.000000</td>\n",
       "      <td>0.909091</td>\n",
       "      <td>0.709091</td>\n",
       "      <td>1.000000</td>\n",
       "      <td>0.018817</td>\n",
       "      <td>0.885246</td>\n",
       "      <td>1.000000</td>\n",
       "      <td>0.308642</td>\n",
       "      <td>1.0</td>\n",
       "    </tr>\n",
       "    <tr>\n",
       "      <th>...</th>\n",
       "      <td>...</td>\n",
       "      <td>...</td>\n",
       "      <td>...</td>\n",
       "      <td>...</td>\n",
       "      <td>...</td>\n",
       "      <td>...</td>\n",
       "      <td>...</td>\n",
       "      <td>...</td>\n",
       "      <td>...</td>\n",
       "    </tr>\n",
       "    <tr>\n",
       "      <th>777</th>\n",
       "      <td>0.000000</td>\n",
       "      <td>0.691919</td>\n",
       "      <td>0.618182</td>\n",
       "      <td>0.222222</td>\n",
       "      <td>0.198925</td>\n",
       "      <td>0.369598</td>\n",
       "      <td>0.059091</td>\n",
       "      <td>0.259259</td>\n",
       "      <td>0.0</td>\n",
       "    </tr>\n",
       "    <tr>\n",
       "      <th>127</th>\n",
       "      <td>0.058824</td>\n",
       "      <td>0.595960</td>\n",
       "      <td>0.527273</td>\n",
       "      <td>0.571429</td>\n",
       "      <td>0.126344</td>\n",
       "      <td>0.496274</td>\n",
       "      <td>0.107851</td>\n",
       "      <td>0.283951</td>\n",
       "      <td>0.0</td>\n",
       "    </tr>\n",
       "    <tr>\n",
       "      <th>1190</th>\n",
       "      <td>0.117647</td>\n",
       "      <td>0.535354</td>\n",
       "      <td>0.509091</td>\n",
       "      <td>0.428571</td>\n",
       "      <td>0.221774</td>\n",
       "      <td>0.432191</td>\n",
       "      <td>0.176033</td>\n",
       "      <td>0.271605</td>\n",
       "      <td>0.0</td>\n",
       "    </tr>\n",
       "    <tr>\n",
       "      <th>1120</th>\n",
       "      <td>0.529412</td>\n",
       "      <td>0.732323</td>\n",
       "      <td>0.727273</td>\n",
       "      <td>0.730159</td>\n",
       "      <td>0.174731</td>\n",
       "      <td>0.564829</td>\n",
       "      <td>0.263223</td>\n",
       "      <td>0.493827</td>\n",
       "      <td>1.0</td>\n",
       "    </tr>\n",
       "    <tr>\n",
       "      <th>125</th>\n",
       "      <td>0.058824</td>\n",
       "      <td>0.444444</td>\n",
       "      <td>0.272727</td>\n",
       "      <td>0.666667</td>\n",
       "      <td>0.133065</td>\n",
       "      <td>0.819672</td>\n",
       "      <td>0.204959</td>\n",
       "      <td>0.320988</td>\n",
       "      <td>1.0</td>\n",
       "    </tr>\n",
       "  </tbody>\n",
       "</table>\n",
       "<p>828 rows × 9 columns</p>\n",
       "</div>"
      ],
      "text/plain": [
       "      Pregnancies   Glucose  BloodPressure  SkinThickness   Insulin       BMI  \\\n",
       "442      0.235294  0.590909       0.581818       0.428571  0.161290  0.494784   \n",
       "544      0.058824  0.444444       0.709091       0.460317  0.102151  0.476900   \n",
       "1685     0.058824  0.404040       0.672727       0.174603  0.080645  0.447094   \n",
       "1189     0.117647  0.878788       0.800000       0.587302  0.161290  0.663189   \n",
       "445      0.000000  0.909091       0.709091       1.000000  0.018817  0.885246   \n",
       "...           ...       ...            ...            ...       ...       ...   \n",
       "777      0.000000  0.691919       0.618182       0.222222  0.198925  0.369598   \n",
       "127      0.058824  0.595960       0.527273       0.571429  0.126344  0.496274   \n",
       "1190     0.117647  0.535354       0.509091       0.428571  0.221774  0.432191   \n",
       "1120     0.529412  0.732323       0.727273       0.730159  0.174731  0.564829   \n",
       "125      0.058824  0.444444       0.272727       0.666667  0.133065  0.819672   \n",
       "\n",
       "      DiabetesPedigreeFunction       Age  Outcome  \n",
       "442                   0.095041  0.296296      0.0  \n",
       "544                   0.150826  0.358025      0.0  \n",
       "1685                  0.217769  0.271605      0.0  \n",
       "1189                  0.266942  0.296296      1.0  \n",
       "445                   1.000000  0.308642      1.0  \n",
       "...                        ...       ...      ...  \n",
       "777                   0.059091  0.259259      0.0  \n",
       "127                   0.107851  0.283951      0.0  \n",
       "1190                  0.176033  0.271605      0.0  \n",
       "1120                  0.263223  0.493827      1.0  \n",
       "125                   0.204959  0.320988      1.0  \n",
       "\n",
       "[828 rows x 9 columns]"
      ]
     },
     "execution_count": 11,
     "metadata": {},
     "output_type": "execute_result"
    }
   ],
   "source": [
    "training_data"
   ]
  },
  {
   "cell_type": "code",
   "execution_count": 12,
   "id": "0dde6456",
   "metadata": {},
   "outputs": [
    {
     "data": {
      "text/html": [
       "<div>\n",
       "<style scoped>\n",
       "    .dataframe tbody tr th:only-of-type {\n",
       "        vertical-align: middle;\n",
       "    }\n",
       "\n",
       "    .dataframe tbody tr th {\n",
       "        vertical-align: top;\n",
       "    }\n",
       "\n",
       "    .dataframe thead th {\n",
       "        text-align: right;\n",
       "    }\n",
       "</style>\n",
       "<table border=\"1\" class=\"dataframe\">\n",
       "  <thead>\n",
       "    <tr style=\"text-align: right;\">\n",
       "      <th></th>\n",
       "      <th>Pregnancies</th>\n",
       "      <th>Glucose</th>\n",
       "      <th>BloodPressure</th>\n",
       "      <th>SkinThickness</th>\n",
       "      <th>Insulin</th>\n",
       "      <th>BMI</th>\n",
       "      <th>DiabetesPedigreeFunction</th>\n",
       "      <th>Age</th>\n",
       "      <th>Outcome</th>\n",
       "    </tr>\n",
       "  </thead>\n",
       "  <tbody>\n",
       "    <tr>\n",
       "      <th>1278</th>\n",
       "      <td>0.000000</td>\n",
       "      <td>0.818182</td>\n",
       "      <td>0.690909</td>\n",
       "      <td>0.888889</td>\n",
       "      <td>0.134409</td>\n",
       "      <td>0.792846</td>\n",
       "      <td>0.313636</td>\n",
       "      <td>0.308642</td>\n",
       "      <td>1.0</td>\n",
       "    </tr>\n",
       "    <tr>\n",
       "      <th>313</th>\n",
       "      <td>0.176471</td>\n",
       "      <td>0.570707</td>\n",
       "      <td>0.454545</td>\n",
       "      <td>0.158730</td>\n",
       "      <td>0.114247</td>\n",
       "      <td>0.439642</td>\n",
       "      <td>0.258678</td>\n",
       "      <td>0.308642</td>\n",
       "      <td>0.0</td>\n",
       "    </tr>\n",
       "    <tr>\n",
       "      <th>1582</th>\n",
       "      <td>0.000000</td>\n",
       "      <td>0.686869</td>\n",
       "      <td>0.672727</td>\n",
       "      <td>0.777778</td>\n",
       "      <td>0.295699</td>\n",
       "      <td>0.299553</td>\n",
       "      <td>0.338843</td>\n",
       "      <td>0.543210</td>\n",
       "      <td>1.0</td>\n",
       "    </tr>\n",
       "    <tr>\n",
       "      <th>1892</th>\n",
       "      <td>0.294118</td>\n",
       "      <td>0.702020</td>\n",
       "      <td>0.581818</td>\n",
       "      <td>0.555556</td>\n",
       "      <td>0.188172</td>\n",
       "      <td>0.426230</td>\n",
       "      <td>0.169835</td>\n",
       "      <td>0.320988</td>\n",
       "      <td>0.0</td>\n",
       "    </tr>\n",
       "    <tr>\n",
       "      <th>1549</th>\n",
       "      <td>0.117647</td>\n",
       "      <td>0.419192</td>\n",
       "      <td>0.590909</td>\n",
       "      <td>0.444444</td>\n",
       "      <td>0.088710</td>\n",
       "      <td>0.548435</td>\n",
       "      <td>0.259917</td>\n",
       "      <td>0.296296</td>\n",
       "      <td>0.0</td>\n",
       "    </tr>\n",
       "    <tr>\n",
       "      <th>...</th>\n",
       "      <td>...</td>\n",
       "      <td>...</td>\n",
       "      <td>...</td>\n",
       "      <td>...</td>\n",
       "      <td>...</td>\n",
       "      <td>...</td>\n",
       "      <td>...</td>\n",
       "      <td>...</td>\n",
       "      <td>...</td>\n",
       "    </tr>\n",
       "    <tr>\n",
       "      <th>1193</th>\n",
       "      <td>0.000000</td>\n",
       "      <td>0.636364</td>\n",
       "      <td>0.781818</td>\n",
       "      <td>0.428571</td>\n",
       "      <td>0.161290</td>\n",
       "      <td>0.408346</td>\n",
       "      <td>0.212810</td>\n",
       "      <td>0.259259</td>\n",
       "      <td>0.0</td>\n",
       "    </tr>\n",
       "    <tr>\n",
       "      <th>1733</th>\n",
       "      <td>0.117647</td>\n",
       "      <td>0.792929</td>\n",
       "      <td>0.672727</td>\n",
       "      <td>0.555556</td>\n",
       "      <td>0.591398</td>\n",
       "      <td>0.587183</td>\n",
       "      <td>0.055372</td>\n",
       "      <td>0.370370</td>\n",
       "      <td>0.0</td>\n",
       "    </tr>\n",
       "    <tr>\n",
       "      <th>421</th>\n",
       "      <td>0.117647</td>\n",
       "      <td>0.474747</td>\n",
       "      <td>0.618182</td>\n",
       "      <td>0.285714</td>\n",
       "      <td>0.102151</td>\n",
       "      <td>0.387481</td>\n",
       "      <td>0.231818</td>\n",
       "      <td>0.259259</td>\n",
       "      <td>0.0</td>\n",
       "    </tr>\n",
       "    <tr>\n",
       "      <th>956</th>\n",
       "      <td>0.058824</td>\n",
       "      <td>0.702020</td>\n",
       "      <td>0.563636</td>\n",
       "      <td>0.650794</td>\n",
       "      <td>0.645161</td>\n",
       "      <td>0.606557</td>\n",
       "      <td>0.221488</td>\n",
       "      <td>0.259259</td>\n",
       "      <td>0.0</td>\n",
       "    </tr>\n",
       "    <tr>\n",
       "      <th>309</th>\n",
       "      <td>0.117647</td>\n",
       "      <td>0.626263</td>\n",
       "      <td>0.618182</td>\n",
       "      <td>0.444444</td>\n",
       "      <td>0.275538</td>\n",
       "      <td>0.490313</td>\n",
       "      <td>0.361570</td>\n",
       "      <td>0.370370</td>\n",
       "      <td>1.0</td>\n",
       "    </tr>\n",
       "  </tbody>\n",
       "</table>\n",
       "<p>207 rows × 9 columns</p>\n",
       "</div>"
      ],
      "text/plain": [
       "      Pregnancies   Glucose  BloodPressure  SkinThickness   Insulin       BMI  \\\n",
       "1278     0.000000  0.818182       0.690909       0.888889  0.134409  0.792846   \n",
       "313      0.176471  0.570707       0.454545       0.158730  0.114247  0.439642   \n",
       "1582     0.000000  0.686869       0.672727       0.777778  0.295699  0.299553   \n",
       "1892     0.294118  0.702020       0.581818       0.555556  0.188172  0.426230   \n",
       "1549     0.117647  0.419192       0.590909       0.444444  0.088710  0.548435   \n",
       "...           ...       ...            ...            ...       ...       ...   \n",
       "1193     0.000000  0.636364       0.781818       0.428571  0.161290  0.408346   \n",
       "1733     0.117647  0.792929       0.672727       0.555556  0.591398  0.587183   \n",
       "421      0.117647  0.474747       0.618182       0.285714  0.102151  0.387481   \n",
       "956      0.058824  0.702020       0.563636       0.650794  0.645161  0.606557   \n",
       "309      0.117647  0.626263       0.618182       0.444444  0.275538  0.490313   \n",
       "\n",
       "      DiabetesPedigreeFunction       Age  Outcome  \n",
       "1278                  0.313636  0.308642      1.0  \n",
       "313                   0.258678  0.308642      0.0  \n",
       "1582                  0.338843  0.543210      1.0  \n",
       "1892                  0.169835  0.320988      0.0  \n",
       "1549                  0.259917  0.296296      0.0  \n",
       "...                        ...       ...      ...  \n",
       "1193                  0.212810  0.259259      0.0  \n",
       "1733                  0.055372  0.370370      0.0  \n",
       "421                   0.231818  0.259259      0.0  \n",
       "956                   0.221488  0.259259      0.0  \n",
       "309                   0.361570  0.370370      1.0  \n",
       "\n",
       "[207 rows x 9 columns]"
      ]
     },
     "execution_count": 12,
     "metadata": {},
     "output_type": "execute_result"
    }
   ],
   "source": [
    "testing_data"
   ]
  },
  {
   "cell_type": "markdown",
   "id": "363baff5",
   "metadata": {},
   "source": [
    "#### Set the training data to be all the input columns of the dataset, columns 1 to 8, and the training dataset to be the last column (9)"
   ]
  },
  {
   "cell_type": "code",
   "execution_count": 13,
   "id": "460c97f7",
   "metadata": {},
   "outputs": [],
   "source": [
    "x_train = training_data[training_data.columns[:-1]]\n",
    "y_train = training_data[training_data.columns[-1]]"
   ]
  },
  {
   "cell_type": "markdown",
   "id": "1999d0df",
   "metadata": {},
   "source": [
    "#### Set the testing data to be all the input columns of the dataset, columns 1 to 8, and the testing dataset to be the last column (9)"
   ]
  },
  {
   "cell_type": "code",
   "execution_count": 14,
   "id": "d010f2a5",
   "metadata": {},
   "outputs": [],
   "source": [
    "x_test = testing_data[testing_data.columns[:-1]]\n",
    "y_test = testing_data[testing_data.columns[-1]]"
   ]
  },
  {
   "cell_type": "markdown",
   "id": "72dd8fb2",
   "metadata": {},
   "source": [
    "#### Build Logistic Regression Model, train the model and show the accuracy of it. This will be the default model as it is built on all the input columns."
   ]
  },
  {
   "cell_type": "code",
   "execution_count": 15,
   "id": "0d23a550",
   "metadata": {},
   "outputs": [
    {
     "name": "stdout",
     "output_type": "stream",
     "text": [
      "Accuracy: 73.91%\n"
     ]
    }
   ],
   "source": [
    "model = LogisticRegression(solver='liblinear')\n",
    "model.fit(x_train, y_train)\n",
    "\n",
    "\n",
    "model_accuracy = model.score(x_test, y_test) * 100.0\n",
    "print(\"Accuracy: %.2f%%\" % model_accuracy) # accuracy of the model"
   ]
  },
  {
   "cell_type": "markdown",
   "id": "cb0b8472",
   "metadata": {},
   "source": [
    "#### The default model seems to have a 73.91% accuracy rate at predicting whether a person has diabetes or not. This is quite accurate but let's see if we can do better. From researching the leading causes of diabetes I will create a model that only takes in attributes that have the most impact on determining whether the person has diabetes or not. Based on my findings from doing some research, my new modified model will include the attributes: 'Glucose', 'BloodPressure', 'Insulin', 'BMI', 'DiabetesPedigreeFunction', 'Age'."
   ]
  },
  {
   "cell_type": "code",
   "execution_count": 16,
   "id": "6d22b374",
   "metadata": {},
   "outputs": [],
   "source": [
    "x_train_2 = training_data.iloc[:, [1,2,4,5,6,7]]\n",
    "y_train_2 = training_data[training_data.columns[-1]]\n",
    "\n",
    "x_test_2 = testing_data.iloc[:, [1,2,4,5,6,7]]\n",
    "y_test_2 = testing_data[testing_data.columns[-1]]"
   ]
  },
  {
   "cell_type": "markdown",
   "id": "1e91bdc0",
   "metadata": {},
   "source": [
    "#### Build the new logistic regression model based on the research done, train it and show its accuracy. This will be the modified model as it is built on input columns that seem to have the most impact on a person's diabetic nature."
   ]
  },
  {
   "cell_type": "code",
   "execution_count": 17,
   "id": "f2182f92",
   "metadata": {},
   "outputs": [
    {
     "name": "stdout",
     "output_type": "stream",
     "text": [
      "Accuracy: 72.95%\n"
     ]
    }
   ],
   "source": [
    "modified_model = LogisticRegression()\n",
    "modified_model.fit(x_train_2, y_train_2)\n",
    "\n",
    "modified_model_accuracy = modified_model.score(x_test_2, y_test_2) * 100.0\n",
    "print(\"Accuracy: %.2f%%\" % modified_model_accuracy) # accuracy of the model"
   ]
  },
  {
   "cell_type": "markdown",
   "id": "20fb2fb1",
   "metadata": {},
   "source": [
    "#### The modified model seems to have 72.95% accuracy, which unfortunately is worse than before. It seems like the model performs worse with less input. Now, let us see if we can build a different kind of model that is more accurate than logistic regression. The first model I will build will be Xgboost. "
   ]
  },
  {
   "cell_type": "code",
   "execution_count": 18,
   "id": "9d4a9b4c",
   "metadata": {},
   "outputs": [
    {
     "data": {
      "text/plain": [
       "XGBClassifier(base_score=0.5, booster='gbtree', callbacks=None,\n",
       "              colsample_bylevel=1, colsample_bynode=1, colsample_bytree=1,\n",
       "              early_stopping_rounds=None, enable_categorical=False,\n",
       "              eval_metric=None, feature_types=None, gamma=0, gpu_id=-1,\n",
       "              grow_policy='depthwise', importance_type=None,\n",
       "              interaction_constraints='', learning_rate=0.300000012,\n",
       "              max_bin=256, max_cat_threshold=64, max_cat_to_onehot=4,\n",
       "              max_delta_step=0, max_depth=6, max_leaves=0, min_child_weight=1,\n",
       "              missing=nan, monotone_constraints='()', n_estimators=100,\n",
       "              n_jobs=0, num_parallel_tree=1, predictor='auto', random_state=0, ...)"
      ]
     },
     "execution_count": 18,
     "metadata": {},
     "output_type": "execute_result"
    }
   ],
   "source": [
    "model_xg = XGBClassifier()\n",
    "model_xg.fit(x_train, y_train)"
   ]
  },
  {
   "cell_type": "code",
   "execution_count": 19,
   "id": "6db7de06",
   "metadata": {},
   "outputs": [
    {
     "name": "stdout",
     "output_type": "stream",
     "text": [
      "Accuracy: 95.65%\n"
     ]
    }
   ],
   "source": [
    "# make predictions for test data\n",
    "y_pred = model_xg.predict(x_test)\n",
    "predictions = [round(value) for value in y_pred]\n",
    "\n",
    "model_xg_accuracy = accuracy_score(y_test, predictions) * 100.0\n",
    "print(\"Accuracy: %.2f%%\" % model_xg_accuracy)"
   ]
  },
  {
   "cell_type": "markdown",
   "id": "c27c0aa6",
   "metadata": {},
   "source": [
    "#### Incredible! The Xgboost model has a prediction accuracy of 95.65%. Now let's how Xgboost performs compared to a Decision Tree model. "
   ]
  },
  {
   "cell_type": "code",
   "execution_count": 20,
   "id": "c87d1c1d",
   "metadata": {},
   "outputs": [
    {
     "name": "stdout",
     "output_type": "stream",
     "text": [
      "Accuracy: 95.17%\n"
     ]
    }
   ],
   "source": [
    "model_dct = DecisionTreeClassifier()\n",
    "model_dct.fit(x_train, y_train)\n",
    "model_dct_accuracy = model_dct.score(x_test, y_test) * 100.0\n",
    "\n",
    "\n",
    "print(\"Accuracy: %.2f%%\" % (model_dct_accuracy)) # accuracy of the model"
   ]
  },
  {
   "cell_type": "markdown",
   "id": "56be3dff",
   "metadata": {},
   "source": [
    "#### The Decision Tree model has a prediction accuracy of 95.17%, which is fantastic. The Xgboost model still outperformed the Decision Tree model, but both are incredibly accurate. Now let's compare these models to a new modeling called Support Vector Machine (SVM)"
   ]
  },
  {
   "cell_type": "code",
   "execution_count": 21,
   "id": "d90d7340",
   "metadata": {},
   "outputs": [
    {
     "name": "stdout",
     "output_type": "stream",
     "text": [
      "Accuracy: 76.33%\n"
     ]
    }
   ],
   "source": [
    "model_svm=LinearSVC()\n",
    "model_svm.fit(x_train, y_train)\n",
    "model_svm_accuracy = model_svm.score(x_test, y_test)* 100.0\n",
    "\n",
    "\n",
    "print(\"Accuracy: %.2f%%\" % (model_svm_accuracy)) # accuracy of the model"
   ]
  },
  {
   "cell_type": "markdown",
   "id": "21bc9c6f",
   "metadata": {},
   "source": [
    "#### Looks like the Support Vector Machine (SVM) model has a 76.33% accuracy for predicting whether a person is diabetic or not. Now lets visually compare the accuracies of the model by using a bar plot."
   ]
  },
  {
   "cell_type": "code",
   "execution_count": 22,
   "id": "d4444f96",
   "metadata": {
    "scrolled": false
   },
   "outputs": [
    {
     "data": {
      "image/png": "[encoded data removed]",
      "text/plain": [
       "<Figure size 1440x720 with 1 Axes>"
      ]
     },
     "metadata": {
      "needs_background": "light"
     },
     "output_type": "display_data"
    }
   ],
   "source": [
    "model_accuracies = { 'Modified Logistic Regression': modified_model_accuracy, 'Default Logistic Regression': model_accuracy, 'Support Vector Machine (SVM)': model_svm_accuracy, 'Decision Tree': model_dct_accuracy, 'XgBoost':model_xg_accuracy}\n",
    "\n",
    "model_used = list(model_accuracies.keys())\n",
    "accuracy_attained = list(model_accuracies.values())\n",
    "  \n",
    "fig = plt.figure(figsize = (20, 10))\n",
    " \n",
    "# creating the bar plot\n",
    "plt.bar(model_used, accuracy_attained,color ='blue',\n",
    "        width = 0.9)\n",
    "plt.xticks(fontsize=12)\n",
    "plt.yticks(np.arange(0, 105, 5), fontsize=12)\n",
    "\n",
    "plt.xlabel(\"Model Used\", fontsize=15)\n",
    "plt.ylabel(\"Accuracy %\", fontsize=15)\n",
    "plt.title(\"Accuracy % of different Binary Classification Models\", fontsize=20)\n",
    "plt.show()"
   ]
  },
  {
   "cell_type": "markdown",
   "id": "084f4387",
   "metadata": {},
   "source": [
    "#### As we can clearly see, Xgboost and Decision Tree were the most accurate, Support Vector Machine (SVM) coming in next, and the Logistic Regression models coming in at the end"
   ]
  },
  {
   "cell_type": "code",
   "execution_count": null,
   "id": "31c20852",
   "metadata": {},
   "outputs": [],
   "source": []
  }
 ],
 "metadata": {
  "kernelspec": {
   "display_name": "Python 3 (ipykernel)",
   "language": "python",
   "name": "python3"
  },
  "language_info": {
   "codemirror_mode": {
    "name": "ipython",
    "version": 3
   },
   "file_extension": ".py",
   "mimetype": "text/x-python",
   "name": "python",
   "nbconvert_exporter": "python",
   "pygments_lexer": "ipython3",
   "version": "3.9.12"
  }
 },
 "nbformat": 4,
 "nbformat_minor": 5
}
